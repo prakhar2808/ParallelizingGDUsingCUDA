{
 "cells": [
  {
   "cell_type": "markdown",
   "metadata": {},
   "source": [
    "# K-means Clustering\n",
    "\n",
    "#### To classify News articles as belonging to 5 categories (binary classification)\n",
    "\n",
    "Any editing needs to be done only in the cells marked with \"Tune hyperparameters here\"\n",
    "\n",
    "\n",
    "\n",
    "\n",
    "Useful notebook shortcuts:\n",
    "\n",
    "Ctrl+Enter -> Run current cell\n",
    "\n",
    "Shift+Enter -> Run current cell and go to next cell\n",
    "\n",
    "Alt+Enter -> Run current cell and add new cell below"
   ]
  },
  {
   "cell_type": "code",
   "execution_count": 10,
   "metadata": {
    "collapsed": true
   },
   "outputs": [],
   "source": [
    "%load_ext autoreload\n",
    "%autoreload 2\n",
    "%matplotlib inline\n",
    "import numpy as np\n",
    "#from model import *\n",
    "from feature import *\n",
    "#from utils import *"
   ]
  },
  {
   "cell_type": "markdown",
   "metadata": {},
   "source": [
    "### Load the training data"
   ]
  },
  {
   "cell_type": "code",
   "execution_count": 29,
   "metadata": {
    "collapsed": true
   },
   "outputs": [],
   "source": [
    "# Change the path to the training data directory\n",
    "data = readfiles1('joined')"
   ]
  },
  {
   "cell_type": "code",
   "execution_count": 30,
   "metadata": {
    "collapsed": true
   },
   "outputs": [],
   "source": [
    "# Initialize the model and preprocess\n",
    "bow = BagOfWordsFeatureExtractor()\n",
    "bow.preprocess(data)"
   ]
  },
  {
   "cell_type": "code",
   "execution_count": 31,
   "metadata": {
    "collapsed": true
   },
   "outputs": [],
   "source": [
    "# Extract fetures and create a numpy array of features\n",
    "X_data_bow = bow.extract(data)"
   ]
  },
  {
   "cell_type": "code",
   "execution_count": 32,
   "metadata": {
    "collapsed": true,
    "scrolled": true
   },
   "outputs": [],
   "source": [
    "from model import *\n",
    "\n",
    "model1 = Kmeans()\n",
    "#model1.train(X_train_bow, Y_train_bow, lr, reg_const)\n",
    "labels = model1.cluster(X_data_bow, k=5, n_iter=25)"
   ]
  },
  {
   "cell_type": "markdown",
   "metadata": {},
   "source": [
    "### Final Output Labels for above model get recorded\n",
    "\n",
    "These labels will be your submission."
   ]
  },
  {
   "cell_type": "code",
   "execution_count": 33,
   "metadata": {
    "collapsed": true
   },
   "outputs": [],
   "source": [
    "#this block will not be used now\n",
    "# import pickle\n",
    "# with open('submission.pickle','wb') as h:\n",
    "#     pickle.dump(labels,h)\n",
    "# dic = {}\n",
    "# for i in range(labels.shape[0]):\n",
    "#     #print(labels[i],end=\"      \")\n",
    "#     dic[labels[i]] = dic.get(labels[i],0)+1\n",
    "# print(dic)"
   ]
  },
  {
   "cell_type": "code",
   "execution_count": 34,
   "metadata": {
    "collapsed": true
   },
   "outputs": [],
   "source": [
    "import matplotlib.pyplot as plt\n",
    "import pandas as pd\n",
    "\n",
    "from sklearn.decomposition import PCA as sklearnPCA\n",
    "from sklearn.discriminant_analysis import LinearDiscriminantAnalysis as LDA\n",
    "from sklearn.datasets.samples_generator import make_blobs\n",
    "\n",
    "from pandas.tools.plotting import parallel_coordinates"
   ]
  },
  {
   "cell_type": "code",
   "execution_count": 35,
   "metadata": {
    "collapsed": true
   },
   "outputs": [],
   "source": [
    "pca = sklearnPCA(n_components=2) #2-dimensional PCA\n",
    "transformed = pd.DataFrame(pca.fit_transform(X_data_bow))"
   ]
  },
  {
   "cell_type": "code",
   "execution_count": 36,
   "metadata": {},
   "outputs": [
    {
     "data": {
      "image/png": "[encoded data removed]",
      "text/plain": [
       "<matplotlib.figure.Figure at 0x7f82da09fe10>"
      ]
     },
     "metadata": {},
     "output_type": "display_data"
    }
   ],
   "source": [
    "plt.scatter(transformed[labels==0][0], transformed[labels==0][1], label='Class 1', c='red')\n",
    "plt.scatter(transformed[labels==1][0], transformed[labels==1][1], label='Class 2', c='blue')\n",
    "plt.scatter(transformed[labels==2][0], transformed[labels==2][1], label='Class 3', c='gray')\n",
    "plt.scatter(transformed[labels==3][0], transformed[labels==3][1], label='Class 4', c='lightgreen')\n",
    "plt.scatter(transformed[labels==4][0], transformed[labels==4][1], label='Class 5', c='black')\n",
    "\n",
    "plt.legend()\n",
    "plt.show()"
   ]
  },
  {
   "cell_type": "markdown",
   "metadata": {},
   "source": [
    "Using tf-idf features"
   ]
  },
  {
   "cell_type": "code",
   "execution_count": 37,
   "metadata": {
    "collapsed": true
   },
   "outputs": [],
   "source": [
    "# Initialize the model and preprocess\n",
    "tfidf = TfIdfFeatureExtractor()\n",
    "tfidf.preprocess(data)"
   ]
  },
  {
   "cell_type": "code",
   "execution_count": 38,
   "metadata": {
    "collapsed": true
   },
   "outputs": [],
   "source": [
    "# Extract fetures and create a numpy array of features\n",
    "X_data_tfidf = tfidf.extract(data)"
   ]
  },
  {
   "cell_type": "code",
   "execution_count": 39,
   "metadata": {
    "collapsed": true,
    "scrolled": true
   },
   "outputs": [],
   "source": [
    "model2 = Kmeans()\n",
    "labels_tfidf = model2.cluster(X_data_tfidf, k = 5)"
   ]
  },
  {
   "cell_type": "code",
   "execution_count": 40,
   "metadata": {
    "collapsed": true
   },
   "outputs": [],
   "source": [
    "#this block will not be used now\n",
    "# import pickle\n",
    "# with open('submission.pickle','wb') as h:\n",
    "#     pickle.dump(labels_tfidf,h)\n",
    "    \n",
    "# # for i in range(labels.shape[0]):\n",
    "# #     print(labels[i],end=\"      \")\n",
    "# #print(labels)\n",
    "\n",
    "# dic = {}\n",
    "# for i in range(labels_tfidf.shape[0]):\n",
    "#     #print(labels[i],end=\"      \")\n",
    "#     dic[labels_tfidf[i]] = dic.get(labels_tfidf[i],0)+1\n",
    "# print(dic)"
   ]
  },
  {
   "cell_type": "code",
   "execution_count": 41,
   "metadata": {
    "collapsed": true
   },
   "outputs": [],
   "source": [
    "pca = sklearnPCA(n_components=2) #2-dimensional PCA\n",
    "transformed = pd.DataFrame(pca.fit_transform(X_data_tfidf))"
   ]
  },
  {
   "cell_type": "code",
   "execution_count": 42,
   "metadata": {},
   "outputs": [
    {
     "data": {
      "image/png": "[encoded data removed]",
      "text/plain": [
       "<matplotlib.figure.Figure at 0x7f82da188b38>"
      ]
     },
     "metadata": {},
     "output_type": "display_data"
    }
   ],
   "source": [
    "plt.scatter(transformed[labels_tfidf==0][0], transformed[labels_tfidf==0][1], label='Class 1', c='red')\n",
    "plt.scatter(transformed[labels_tfidf==1][0], transformed[labels_tfidf==1][1], label='Class 2', c='blue')\n",
    "plt.scatter(transformed[labels_tfidf==2][0], transformed[labels_tfidf==2][1], label='Class 3', c='gray')\n",
    "plt.scatter(transformed[labels_tfidf==3][0], transformed[labels_tfidf==3][1], label='Class 4', c='lightgreen')\n",
    "plt.scatter(transformed[labels_tfidf==4][0], transformed[labels_tfidf==4][1], label='Class 5', c='black')\n",
    "\n",
    "plt.legend()\n",
    "plt.show()"
   ]
  },
  {
   "cell_type": "code",
   "execution_count": 43,
   "metadata": {
    "collapsed": true
   },
   "outputs": [],
   "source": [
    "import pickle\n",
    "with open('submission.pickle','wb') as h:\n",
    "    pickle.dump(labels,h)\n",
    "    pickle.dump(labels_tfidf,h)"
   ]
  },
  {
   "cell_type": "code",
   "execution_count": 44,
   "metadata": {},
   "outputs": [
    {
     "name": "stdout",
     "output_type": "stream",
     "text": [
      "{4.0: 476, 0.0: 729, 3.0: 360, 1.0: 745, 2.0: 190}\n",
      "{2.0: 188, 3.0: 783, 0.0: 563, 1.0: 131, 4.0: 835}\n"
     ]
    }
   ],
   "source": [
    "#to unpack the data\n",
    "\n",
    "import pickle\n",
    "with open('submission.pickle','rb') as h:\n",
    "    bow = pickle.load(h)\n",
    "    tfidf = pickle.load(h)\n",
    "\n",
    "    #checking the values\n",
    "dic = {}\n",
    "for i in range(bow.shape[0]):\n",
    "    #print(labels[i],end=\"      \")\n",
    "    dic[bow[i]] = dic.get(bow[i],0)+1\n",
    "print(dic)\n",
    "\n",
    "dic = {}\n",
    "for i in range(tfidf.shape[0]):\n",
    "    #print(labels[i],end=\"      \")\n",
    "    dic[tfidf[i]] = dic.get(tfidf[i],0)+1\n",
    "print(dic)"
   ]
  },
  {
   "cell_type": "code",
   "execution_count": null,
   "metadata": {
    "collapsed": true
   },
   "outputs": [],
   "source": []
  },
  {
   "cell_type": "code",
   "execution_count": null,
   "metadata": {
    "collapsed": true
   },
   "outputs": [],
   "source": []
  },
  {
   "cell_type": "code",
   "execution_count": null,
   "metadata": {
    "collapsed": true
   },
   "outputs": [],
   "source": []
  },
  {
   "cell_type": "code",
   "execution_count": null,
   "metadata": {
    "collapsed": true
   },
   "outputs": [],
   "source": []
  },
  {
   "cell_type": "code",
   "execution_count": null,
   "metadata": {
    "collapsed": true
   },
   "outputs": [],
   "source": []
  },
  {
   "cell_type": "code",
   "execution_count": null,
   "metadata": {
    "collapsed": true
   },
   "outputs": [],
   "source": []
  },
  {
   "cell_type": "code",
   "execution_count": null,
   "metadata": {
    "collapsed": true
   },
   "outputs": [],
   "source": []
  },
  {
   "cell_type": "code",
   "execution_count": null,
   "metadata": {
    "collapsed": true
   },
   "outputs": [],
   "source": []
  },
  {
   "cell_type": "code",
   "execution_count": null,
   "metadata": {
    "collapsed": true
   },
   "outputs": [],
   "source": []
  },
  {
   "cell_type": "code",
   "execution_count": null,
   "metadata": {
    "collapsed": true
   },
   "outputs": [],
   "source": []
  }
 ],
 "metadata": {
  "kernelspec": {
   "display_name": "Python 3",
   "language": "python",
   "name": "python3"
  },
  "language_info": {
   "codemirror_mode": {
    "name": "ipython",
    "version": 3
   },
   "file_extension": ".py",
   "mimetype": "text/x-python",
   "name": "python",
   "nbconvert_exporter": "python",
   "pygments_lexer": "ipython3",
   "version": "3.6.3"
  }
 },
 "nbformat": 4,
 "nbformat_minor": 2
}
